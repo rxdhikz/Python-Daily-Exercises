{
 "cells": [
  {
   "cell_type": "markdown",
   "id": "0733497a",
   "metadata": {},
   "source": [
    "2. The built-in version of sum takes an optional second argument, which is used as the starting point for the summing. (That’s why it takes a list of numbers as its first argument, unlike our mysum implementation.) So sum([1,2,3], 4) returns 10, because 1+2+3 is 6, which would be added to the starting value of 4. Reimplement your mysum function such that it works in this way. If a second argument is not provided, then it should default to 0. Note that while you can write a function in Python 3 that defines a parameter after *args , I’d suggest avoiding it and just taking two arguments—a list and an optional starting point."
   ]
  },
  {
   "cell_type": "code",
   "execution_count": 1,
   "id": "47108cd2",
   "metadata": {},
   "outputs": [],
   "source": [
    "def my_sum_(nos,start=0):\n",
    "    op = start\n",
    "    for num in nos:\n",
    "        op += num\n",
    "    return op"
   ]
  },
  {
   "cell_type": "code",
   "execution_count": 2,
   "id": "d653ec85",
   "metadata": {},
   "outputs": [
    {
     "data": {
      "text/plain": [
       "16"
      ]
     },
     "execution_count": 2,
     "metadata": {},
     "output_type": "execute_result"
    }
   ],
   "source": [
    "my_sum_([1,2,3,4,5],1)"
   ]
  },
  {
   "cell_type": "code",
   "execution_count": 3,
   "id": "b860012d",
   "metadata": {},
   "outputs": [
    {
     "data": {
      "text/plain": [
       "6"
      ]
     },
     "execution_count": 3,
     "metadata": {},
     "output_type": "execute_result"
    }
   ],
   "source": [
    "my_sum_([1,2,3],)"
   ]
  }
 ],
 "metadata": {
  "kernelspec": {
   "display_name": "Python 3 (ipykernel)",
   "language": "python",
   "name": "python3"
  },
  "language_info": {
   "codemirror_mode": {
    "name": "ipython",
    "version": 3
   },
   "file_extension": ".py",
   "mimetype": "text/x-python",
   "name": "python",
   "nbconvert_exporter": "python",
   "pygments_lexer": "ipython3",
   "version": "3.11.2"
  }
 },
 "nbformat": 4,
 "nbformat_minor": 5
}
