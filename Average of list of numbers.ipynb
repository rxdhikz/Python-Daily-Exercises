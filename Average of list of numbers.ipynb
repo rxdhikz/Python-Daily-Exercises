{
 "cells": [
  {
   "cell_type": "markdown",
   "id": "23ce8777",
   "metadata": {},
   "source": [
    "Write a function that takes a list of numbers. It should return the average (i.e., arithmetic mean) of those numbers."
   ]
  },
  {
   "cell_type": "code",
   "execution_count": 1,
   "id": "4b92dae4",
   "metadata": {},
   "outputs": [],
   "source": [
    "def arithmetic_mean(nos):\n",
    "    nos_sum = sum(nos)\n",
    "    am = nos_sum/len(nos)\n",
    "    return am"
   ]
  },
  {
   "cell_type": "code",
   "execution_count": 2,
   "id": "e84f465b",
   "metadata": {},
   "outputs": [
    {
     "data": {
      "text/plain": [
       "3.0"
      ]
     },
     "execution_count": 2,
     "metadata": {},
     "output_type": "execute_result"
    }
   ],
   "source": [
    "arithmetic_mean([1,2,3,4,5])"
   ]
  }
 ],
 "metadata": {
  "kernelspec": {
   "display_name": "Python 3 (ipykernel)",
   "language": "python",
   "name": "python3"
  },
  "language_info": {
   "codemirror_mode": {
    "name": "ipython",
    "version": 3
   },
   "file_extension": ".py",
   "mimetype": "text/x-python",
   "name": "python",
   "nbconvert_exporter": "python",
   "pygments_lexer": "ipython3",
   "version": "3.11.2"
  }
 },
 "nbformat": 4,
 "nbformat_minor": 5
}
