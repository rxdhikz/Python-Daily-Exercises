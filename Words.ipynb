{
 "cells": [
  {
   "cell_type": "markdown",
   "id": "850963ba",
   "metadata": {},
   "source": [
    "Write a function that takes a list of words(strings). It should return a tuple containing three integers, representing the length of the shortest word, the length of the longest word, and the average word length."
   ]
  },
  {
   "cell_type": "code",
   "execution_count": 1,
   "id": "2f8b305c",
   "metadata": {},
   "outputs": [],
   "source": [
    "def words_uhm(words_set):\n",
    "    sum_of_words = 0\n",
    "    shortest_word = 0\n",
    "    longest_word = 0\n",
    "    for word in words_set:\n",
    "        word_length = len(word)\n",
    "        shortest_word = min(words_set)\n",
    "        shortest_word_len = len(shortest_word)\n",
    "        longest_word = max(words_set)\n",
    "        longest_word_len = len(longest_word)\n",
    "        sum_of_words += word_length\n",
    "    word_avg = sum_of_words/len(words_set)\n",
    "       \n",
    "    return (shortest_word_len,longest_word_len,word_avg)"
   ]
  },
  {
   "cell_type": "code",
   "execution_count": 2,
   "id": "1c976b9b",
   "metadata": {},
   "outputs": [
    {
     "data": {
      "text/plain": [
       "(2, 5, 3.875)"
      ]
     },
     "execution_count": 2,
     "metadata": {},
     "output_type": "execute_result"
    }
   ],
   "source": [
    "words_uhm(['be','bun','cloud','curse','day','dream','ester','elf',])"
   ]
  }
 ],
 "metadata": {
  "kernelspec": {
   "display_name": "Python 3 (ipykernel)",
   "language": "python",
   "name": "python3"
  },
  "language_info": {
   "codemirror_mode": {
    "name": "ipython",
    "version": 3
   },
   "file_extension": ".py",
   "mimetype": "text/x-python",
   "name": "python",
   "nbconvert_exporter": "python",
   "pygments_lexer": "ipython3",
   "version": "3.11.2"
  }
 },
 "nbformat": 4,
 "nbformat_minor": 5
}
