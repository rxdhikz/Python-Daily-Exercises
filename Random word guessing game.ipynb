{
 "cells": [
  {
   "cell_type": "markdown",
   "id": "56af5ebb",
   "metadata": {},
   "source": [
    "Create a program that randomly that selects a word from the dictionary. The user's task is to guess the word. To keep it manageable, limit the word selection to words containing two to five letters, so it's not overly challenging. Instead of providing hints like \"guess a smaller or larger number\" instruct the user to guess an earlier or later word in the dictionary."
   ]
  },
  {
   "cell_type": "code",
   "execution_count": 1,
   "id": "4cb5a2dc",
   "metadata": {},
   "outputs": [],
   "source": [
    "import random"
   ]
  },
  {
   "cell_type": "code",
   "execution_count": 2,
   "id": "7ea51ce9",
   "metadata": {},
   "outputs": [],
   "source": [
    "def word_guess():\n",
    "    words_set = ['at','am','be','bun','cloud','curse','day','dream','ester','elf','fire','fume','go','get','heylo','heh',\n",
    "                 'igloo','it','jay','jump','kill','kin','love','late','me','mind','ray','red','spy','spin','zebra']\n",
    "    the_word = random.choice(words_set)\n",
    "    tries = 0\n",
    "    while tries < 3:\n",
    "        guess = input(\"Enter your guess of the word : \")\n",
    "        if guess == the_word:\n",
    "            print(f\"Yayy!! Your guess is right! {the_word} is the correct answer.\")\n",
    "            break\n",
    "        tries+=1\n",
    "        if guess < the_word:\n",
    "            print(f\"Guess a word after this in the dictionary.\")\n",
    "        if guess > the_word:\n",
    "            print(f\"Guess a word prior to this in the dictionary.\")\n",
    "    print(f\"Exceeded the no.of guesses. The correct word is {the_word}.\")"
   ]
  },
  {
   "cell_type": "code",
   "execution_count": 3,
   "id": "9a161328",
   "metadata": {},
   "outputs": [
    {
     "name": "stdout",
     "output_type": "stream",
     "text": [
      "Enter your guess of the word : spy\n",
      "Guess a word prior to this in the dictionary.\n",
      "Enter your guess of the word : kill\n",
      "Guess a word prior to this in the dictionary.\n",
      "Enter your guess of the word : igloo\n",
      "Guess a word prior to this in the dictionary.\n",
      "Exceeded the no.of guesses. The correct word is curse.\n"
     ]
    }
   ],
   "source": [
    "word_guess()"
   ]
  }
 ],
 "metadata": {
  "kernelspec": {
   "display_name": "Python 3 (ipykernel)",
   "language": "python",
   "name": "python3"
  },
  "language_info": {
   "codemirror_mode": {
    "name": "ipython",
    "version": 3
   },
   "file_extension": ".py",
   "mimetype": "text/x-python",
   "name": "python",
   "nbconvert_exporter": "python",
   "pygments_lexer": "ipython3",
   "version": "3.11.2"
  }
 },
 "nbformat": 4,
 "nbformat_minor": 5
}
