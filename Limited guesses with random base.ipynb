{
 "cells": [
  {
   "cell_type": "markdown",
   "id": "27c1ed55",
   "metadata": {},
   "source": [
    "Modify the program to allow the user only three attempts to guess the correct number. After three unsuccessful attempts, the program should inform them that they've run out of guessess and exit. Additionally, the program should not only select a random number but also choose a random number base from 2 to 16. This means that when the user inputs \"10\" as their guess, the program should interpret it correctly in the chosen base.\n",
    "\n",
    "ex. as 10 in decimal, 2 in binary, or 16 in hexadecimal"
   ]
  },
  {
   "cell_type": "code",
   "execution_count": 1,
   "id": "45a06157",
   "metadata": {},
   "outputs": [],
   "source": [
    "import random"
   ]
  },
  {
   "cell_type": "code",
   "execution_count": 2,
   "id": "bf441556",
   "metadata": {},
   "outputs": [],
   "source": [
    "def guess_the_num():\n",
    "    random_no_base = random.randint(2,16)\n",
    "    num = random.randint(0,100)\n",
    "    tries = 0\n",
    "    while tries < 3:\n",
    "        guess = int(input(\"Enter your guess : \"))\n",
    "        decimal_guess = int(str(guess),random_no_base)\n",
    "        \n",
    "        if decimal_guess == num:\n",
    "            print(f\"Yayy!! Your guess of the number is right.\")\n",
    "            break\n",
    "        if decimal_guess > num:\n",
    "            print(f\"Your guess is greater than the number. Try again.\")\n",
    "        if decimal_guess < num:\n",
    "            print(f\"Your guess is lower than the number. Try again.\")\n",
    "        tries+=1\n",
    "            \n",
    "    print(f\"Exceeded the number of guesses. The correct number was {num}.\")"
   ]
  },
  {
   "cell_type": "code",
   "execution_count": 3,
   "id": "08f8f669",
   "metadata": {},
   "outputs": [
    {
     "name": "stdout",
     "output_type": "stream",
     "text": [
      "Enter your guess : 43\n",
      "Your guess is greater than the number. Try again.\n",
      "Enter your guess : 27\n",
      "Your guess is greater than the number. Try again.\n",
      "Enter your guess : 13\n",
      "Your guess is greater than the number. Try again.\n",
      "Exceeded the number of guesses. The correct number was 8.\n"
     ]
    }
   ],
   "source": [
    "guess_the_num()"
   ]
  }
 ],
 "metadata": {
  "kernelspec": {
   "display_name": "Python 3 (ipykernel)",
   "language": "python",
   "name": "python3"
  },
  "language_info": {
   "codemirror_mode": {
    "name": "ipython",
    "version": 3
   },
   "file_extension": ".py",
   "mimetype": "text/x-python",
   "name": "python",
   "nbconvert_exporter": "python",
   "pygments_lexer": "ipython3",
   "version": "3.11.2"
  }
 },
 "nbformat": 4,
 "nbformat_minor": 5
}
