{
 "cells": [
  {
   "cell_type": "markdown",
   "id": "d1cfa901",
   "metadata": {},
   "source": [
    "1. In exercise you’ll implement the sum function that comes with Python. That function takes a sequence of numbers and returns the sum of those numbers. So if you were to invoke sum([1,2,3]) , the result would be 6 . The challenge here is to write a mysum function that does the same thing as the built-in sum function. However, instead of taking a single sequence as a parameter, it should take a variable number of arguments. Thus, although you might invoke sum([1,2,3]) , you’d instead invoke mysum(1,2,3) or mysum(10,20,30,40,50)"
   ]
  },
  {
   "cell_type": "code",
   "execution_count": 1,
   "id": "8e994969",
   "metadata": {},
   "outputs": [],
   "source": [
    "def my_sum(nos):\n",
    "    op = 0\n",
    "    for no in nos:\n",
    "        op+=no\n",
    "    return op\n",
    "#this code will not accept more than one argument"
   ]
  },
  {
   "cell_type": "code",
   "execution_count": 2,
   "id": "06c2a72e",
   "metadata": {},
   "outputs": [
    {
     "ename": "TypeError",
     "evalue": "my_sum() takes 1 positional argument but 2 were given",
     "output_type": "error",
     "traceback": [
      "\u001b[1;31m---------------------------------------------------------------------------\u001b[0m",
      "\u001b[1;31mTypeError\u001b[0m                                 Traceback (most recent call last)",
      "Cell \u001b[1;32mIn[2], line 1\u001b[0m\n\u001b[1;32m----> 1\u001b[0m \u001b[43mmy_sum\u001b[49m\u001b[43m(\u001b[49m\u001b[43m[\u001b[49m\u001b[38;5;241;43m1\u001b[39;49m\u001b[43m,\u001b[49m\u001b[38;5;241;43m2\u001b[39;49m\u001b[43m,\u001b[49m\u001b[38;5;241;43m3\u001b[39;49m\u001b[43m,\u001b[49m\u001b[38;5;241;43m4\u001b[39;49m\u001b[43m,\u001b[49m\u001b[38;5;241;43m5\u001b[39;49m\u001b[43m]\u001b[49m\u001b[43m,\u001b[49m\u001b[38;5;241;43m1\u001b[39;49m\u001b[43m)\u001b[49m\n",
      "\u001b[1;31mTypeError\u001b[0m: my_sum() takes 1 positional argument but 2 were given"
     ]
    }
   ],
   "source": [
    "my_sum([1,2,3,4,5],1)"
   ]
  },
  {
   "cell_type": "code",
   "execution_count": 3,
   "id": "f9dca4b8",
   "metadata": {},
   "outputs": [],
   "source": [
    "def my__sum(*numbers):\n",
    "    op = 0\n",
    "    for num in numbers:\n",
    "        op += num\n",
    "    return op\n",
    "\n",
    "#in this code, the '*' allows the my__sum() function to accept any number of arguments as a tuple"
   ]
  },
  {
   "cell_type": "code",
   "execution_count": 4,
   "id": "ddcce058",
   "metadata": {},
   "outputs": [
    {
     "data": {
      "text/plain": [
       "15"
      ]
     },
     "execution_count": 4,
     "metadata": {},
     "output_type": "execute_result"
    }
   ],
   "source": [
    "my__sum(1,2,3,4,5)"
   ]
  }
 ],
 "metadata": {
  "kernelspec": {
   "display_name": "Python 3 (ipykernel)",
   "language": "python",
   "name": "python3"
  },
  "language_info": {
   "codemirror_mode": {
    "name": "ipython",
    "version": 3
   },
   "file_extension": ".py",
   "mimetype": "text/x-python",
   "name": "python",
   "nbconvert_exporter": "python",
   "pygments_lexer": "ipython3",
   "version": "3.11.2"
  }
 },
 "nbformat": 4,
 "nbformat_minor": 5
}
